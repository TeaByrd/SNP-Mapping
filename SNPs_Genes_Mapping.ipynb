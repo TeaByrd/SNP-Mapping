{
 "cells": [
  {
   "cell_type": "markdown",
   "metadata": {},
   "source": [
    "#### Prerequisites:\n",
    "- Pandas\n",
    "- glob\n",
    "- subprocess\n",
    "\n",
    "#### Introduction\n",
    "This script guides you through the process of firstly, extending the initial Risk SNPs list (seed snps, PD or AD.) with Haploreg (Linkage disequilibrium) and GTex (eQTLs), and secondly, map those snps to their corresponding genes. "
   ]
  },
  {
   "cell_type": "code",
   "execution_count": 5,
   "metadata": {},
   "outputs": [],
   "source": [
    "import glob\n",
    "import pandas as pd\n",
    "import subprocess"
   ]
  },
  {
   "cell_type": "markdown",
   "metadata": {},
   "source": [
    "1. Query Haploreg (https://pubs.broadinstitute.org/mammals/haploreg/haploreg.php) v4.1 with the initial list of seed snps provides in the folder for both PD and AD separately. They are called \"PD_SNPS.txt\" for Parkinson's Disease or \"AD_SNPS.txt\" for Alzheimers's Disease.\n",
    "\n",
    "    - options: default, set output mode to Text, LD Threshold 0.8 \n",
    "    \n",
    "###### Important: Haploreg is starting to get slow when snps count exceeds ~ 80. So we first divide the the seed list into equal snps of a modarate size. Then we use it as input separately for Haploreg"
   ]
  },
  {
   "cell_type": "code",
   "execution_count": 27,
   "metadata": {},
   "outputs": [],
   "source": [
    "# the path to your input file = newline separated list of seed snps\n",
    "# in this example we are using PD snps. Change the path according to your study (AD or PD)\n",
    "seed_snps=\"PD_SNPS.txt\""
   ]
  },
  {
   "cell_type": "code",
   "execution_count": 6,
   "metadata": {},
   "outputs": [],
   "source": [
    "#Import the initial snps list and divide into smaller subsets. \n",
    "#Those subsets are getting saved in the current working directory, called \"snps_subset_xx\".\n",
    "snps_per_file = 80\n",
    "smallfile=None\n",
    "snps_list=[] #list of seed snps for gtex later\n",
    "with open(seed_snps) as snps: # thi is the newline separated file of seed snps for PD. CHange this file according to your inpt of choice above.\n",
    "    for lineno, line in enumerate(snps):\n",
    "        snps_list.append(line.rstrip())\n",
    "        if lineno % snps_per_file == 0:\n",
    "            small_filename = 'snps_subset_{}.txt'.format(lineno + snps_per_file)\n",
    "            smallfile = open(small_filename,\"w\")\n",
    "        smallfile.write(line)\n",
    "    if smallfile:\n",
    "        smallfile.close()"
   ]
  },
  {
   "cell_type": "markdown",
   "metadata": {},
   "source": [
    " #### Now query Haploreg manually on their website with the smaller files separately and put them into the current working directory\n",
    " #### Follow these steps\n",
    " 1. go to (https://pubs.broadinstitute.org/mammals/haploreg/haploreg.php\n",
    " 2. build query\n",
    " 3. build query with each subset, output format: Text, LD Threshold: 0.8\n",
    " 4. Save results as \"haploreg_x\" with x = 1,2,3,4 etc. in the current working directory. Important to name them in that convention"
   ]
  },
  {
   "cell_type": "code",
   "execution_count": 2,
   "metadata": {},
   "outputs": [],
   "source": [
    "#list of all files we created\n",
    "files=glob.glob(\"haploreg*\")\n",
    "\n",
    "#read all files dymanically and merge them into a big dataframe\n",
    "haploreg_df=pd.read_csv(files[0],delimiter = '\\t')\n",
    "for file in files[1:]:\n",
    "    current_df=pd.read_csv(file,delimiter = '\\t')\n",
    "    haploreg_df = haploreg_df.append(current_df) #the final big dataframe contaiing all snps"
   ]
  },
  {
   "cell_type": "code",
   "execution_count": 3,
   "metadata": {},
   "outputs": [],
   "source": [
    "##keep column 6 and 25 (index 5 and 24). \"SNP ID\" and \"Gene name\"\n",
    "haploreg_df=haploreg_df[['rsID','GENCODE_name']]"
   ]
  },
  {
   "cell_type": "code",
   "execution_count": 4,
   "metadata": {},
   "outputs": [
    {
     "name": "stdout",
     "output_type": "stream",
     "text": [
      "NaN values removed\n"
     ]
    }
   ],
   "source": [
    "#remove NaN valued rows and shady values \n",
    "haploreg_df_unique=haploreg_df.dropna(inplace=False)\n",
    "print(\"NaN values removed\")"
   ]
  },
  {
   "cell_type": "markdown",
   "metadata": {},
   "source": [
    " #### Query Haploreg is done.\n",
    " ### 2.\n",
    " #### Now we we query gtex portal (http://gtexportal.org/home/index.html) to extend our mapping with eQTLs mapping. Since both Haploreg and gtex portal use genome build hg38, there's no further genome coordinate mapping needed.\n",
    " \n",
    " #### We access it through the API and fetch only Brain Tissue eQTLs"
   ]
  },
  {
   "cell_type": "code",
   "execution_count": 7,
   "metadata": {},
   "outputs": [],
   "source": [
    "with open('snps_gene_eqtls.csv', 'a') as outfile: # save in csv in current working directory\n",
    "    for snp in snps_list:\n",
    "        #fetch brain eQTLs only\n",
    "        command=\"curl -X GET --header \\'Accept: text/html\\' \\'https://gtexportal.org/rest/v1/association/singleTissueEqtl?format=tsv&snpId=\"+snp+\"&tissueSiteDetailId=Brain_Amygdala%2CBrain_Anterior_cingulate_cortex_BA24%2CBrain_Caudate_basal_ganglia%2CBrain_Cerebellar_Hemisphere%2CBrain_Cerebellum%2CBrain_Cortex%2CBrain_Frontal_Cortex_BA9%2CBrain_Hippocampus%2CBrain_Hypothalamus%2CBrain_Nucleus_accumbens_basal_ganglia%2CBrain_Putamen_basal_ganglia%2CBrain_Spinal_cord_cervical_c-1%2CBrain_Substantia_nigra&datasetId=gtex_v8\\'\"\n",
    "        subprocess.call(command,shell=True,stdout=outfile) #that might take a few minutes"
   ]
  },
  {
   "cell_type": "code",
   "execution_count": 11,
   "metadata": {},
   "outputs": [
    {
     "name": "stdout",
     "output_type": "stream",
     "text": [
      "           snpId  geneSymbolUpper\n",
      "0      rs6088792             GDF5\n",
      "1      rs6088792          RPL36P4\n",
      "2      rs6088792          RPL36P4\n",
      "3      rs6088792             GDF5\n",
      "4      rs6088792          RPL36P4\n",
      "...          ...              ...\n",
      "15687  rs9841498        MCCC1-AS1\n",
      "15688      snpId  geneSymbolUpper\n",
      "15689      snpId  geneSymbolUpper\n",
      "15690      snpId  geneSymbolUpper\n",
      "15691      snpId  geneSymbolUpper\n",
      "\n",
      "[15692 rows x 2 columns]\n"
     ]
    }
   ],
   "source": [
    "#open the output\n",
    "eQTL_query=pd.read_csv(\"snps_gene_eqtls.csv\",sep=\"\\t\")\n",
    "#keep only snpID and gene symbol column\n",
    "eQTL_query=eQTL_query[[\"snpId\",\"geneSymbolUpper\"]]\n",
    "print (eQTL_query)"
   ]
  },
  {
   "cell_type": "code",
   "execution_count": 13,
   "metadata": {},
   "outputs": [
    {
     "name": "stdout",
     "output_type": "stream",
     "text": [
      "Size without duplicates: 2434\n"
     ]
    }
   ],
   "source": [
    "#drop duplicates\n",
    "eQTL_query=eQTL_query.drop_duplicates(keep=\"first\",inplace=False)\n",
    "print (\"Size without duplicates:\",len(eQTL_query))"
   ]
  },
  {
   "cell_type": "code",
   "execution_count": 15,
   "metadata": {},
   "outputs": [
    {
     "data": {
      "text/html": [
       "<div>\n",
       "<style scoped>\n",
       "    .dataframe tbody tr th:only-of-type {\n",
       "        vertical-align: middle;\n",
       "    }\n",
       "\n",
       "    .dataframe tbody tr th {\n",
       "        vertical-align: top;\n",
       "    }\n",
       "\n",
       "    .dataframe thead th {\n",
       "        text-align: right;\n",
       "    }\n",
       "</style>\n",
       "<table border=\"1\" class=\"dataframe\">\n",
       "  <thead>\n",
       "    <tr style=\"text-align: right;\">\n",
       "      <th></th>\n",
       "      <th>snpId</th>\n",
       "      <th>geneSymbolUpper</th>\n",
       "    </tr>\n",
       "  </thead>\n",
       "  <tbody>\n",
       "    <tr>\n",
       "      <td>0</td>\n",
       "      <td>rs6088792</td>\n",
       "      <td>GDF5</td>\n",
       "    </tr>\n",
       "    <tr>\n",
       "      <td>1</td>\n",
       "      <td>rs6088792</td>\n",
       "      <td>RPL36P4</td>\n",
       "    </tr>\n",
       "    <tr>\n",
       "      <td>5</td>\n",
       "      <td>rs6088792</td>\n",
       "      <td>UQCC1</td>\n",
       "    </tr>\n",
       "    <tr>\n",
       "      <td>10</td>\n",
       "      <td>rs6088792</td>\n",
       "      <td>MAP1LC3A</td>\n",
       "    </tr>\n",
       "    <tr>\n",
       "      <td>13</td>\n",
       "      <td>rs6088792</td>\n",
       "      <td>MYH7B</td>\n",
       "    </tr>\n",
       "    <tr>\n",
       "      <td>15</td>\n",
       "      <td>snpId</td>\n",
       "      <td>geneSymbolUpper</td>\n",
       "    </tr>\n",
       "    <tr>\n",
       "      <td>18</td>\n",
       "      <td>rs2274432</td>\n",
       "      <td>TSEN15</td>\n",
       "    </tr>\n",
       "    <tr>\n",
       "      <td>28</td>\n",
       "      <td>rs6088813</td>\n",
       "      <td>MMP24-AS1</td>\n",
       "    </tr>\n",
       "    <tr>\n",
       "      <td>29</td>\n",
       "      <td>rs6088813</td>\n",
       "      <td>GDF5</td>\n",
       "    </tr>\n",
       "    <tr>\n",
       "      <td>30</td>\n",
       "      <td>rs6088813</td>\n",
       "      <td>UQCC1</td>\n",
       "    </tr>\n",
       "  </tbody>\n",
       "</table>\n",
       "</div>"
      ],
      "text/plain": [
       "        snpId  geneSymbolUpper\n",
       "0   rs6088792             GDF5\n",
       "1   rs6088792          RPL36P4\n",
       "5   rs6088792            UQCC1\n",
       "10  rs6088792         MAP1LC3A\n",
       "13  rs6088792            MYH7B\n",
       "15      snpId  geneSymbolUpper\n",
       "18  rs2274432           TSEN15\n",
       "28  rs6088813        MMP24-AS1\n",
       "29  rs6088813             GDF5\n",
       "30  rs6088813            UQCC1"
      ]
     },
     "execution_count": 15,
     "metadata": {},
     "output_type": "execute_result"
    }
   ],
   "source": [
    "eQTL_query.head(10) #row number 6 contains column headers"
   ]
  },
  {
   "cell_type": "code",
   "execution_count": 18,
   "metadata": {},
   "outputs": [
    {
     "name": "stdout",
     "output_type": "stream",
     "text": [
      "final size 2431\n",
      "        snpId geneSymbolUpper\n",
      "0   rs6088792            GDF5\n",
      "1   rs6088792         RPL36P4\n",
      "5   rs6088792           UQCC1\n",
      "10  rs6088792        MAP1LC3A\n",
      "13  rs6088792           MYH7B\n",
      "29  rs6088813            GDF5\n",
      "30  rs6088813           UQCC1\n",
      "31  rs6088813         RPL36P4\n",
      "34  rs6088813        MAP1LC3A\n",
      "36  rs6088813         TRPC4AP\n"
     ]
    }
   ],
   "source": [
    "#we drop 6th row because it contains column headers. \n",
    "#Since we removed all duplicates, this row is the only instance of column headers within the data.\n",
    "eQTL_query=eQTL_query.drop(eQTL_query.index[5]) #drop it\n",
    "print(\"final size\",len(eQTL_query))\n",
    "print (eQTL_query.head(10)) # done"
   ]
  },
  {
   "cell_type": "markdown",
   "metadata": {},
   "source": [
    "### 3. \n",
    "#### Now combine Haploreg and GTex results.\n",
    "####  Important: only consider eQTL SNPs, which are in Haploreg results"
   ]
  },
  {
   "cell_type": "code",
   "execution_count": 19,
   "metadata": {},
   "outputs": [],
   "source": [
    "#Drop snps from the GTex reults that are NOT in Haploreg results\n",
    "haploreg_ids=haploreg_df_unique.rsID.tolist() #haploreg snps ids in list\n",
    "eQTL_query_haplofilter=eQTL_query[eQTL_query[\"snpId\"].isin(haploreg_ids)] #filter Gtex reults using the haploreg ID list"
   ]
  },
  {
   "cell_type": "code",
   "execution_count": 20,
   "metadata": {},
   "outputs": [],
   "source": [
    "#renaming eQTL_query_haplofilter column names to make it consistent with the Haploreg dataframe\n",
    "eQTL_query_haplofilter.columns=[\"rsID\",\"GENCODE_name\"]"
   ]
  },
  {
   "cell_type": "code",
   "execution_count": 22,
   "metadata": {},
   "outputs": [
    {
     "data": {
      "text/html": [
       "<div>\n",
       "<style scoped>\n",
       "    .dataframe tbody tr th:only-of-type {\n",
       "        vertical-align: middle;\n",
       "    }\n",
       "\n",
       "    .dataframe tbody tr th {\n",
       "        vertical-align: top;\n",
       "    }\n",
       "\n",
       "    .dataframe thead th {\n",
       "        text-align: right;\n",
       "    }\n",
       "</style>\n",
       "<table border=\"1\" class=\"dataframe\">\n",
       "  <thead>\n",
       "    <tr style=\"text-align: right;\">\n",
       "      <th></th>\n",
       "      <th></th>\n",
       "      <th>rsID</th>\n",
       "      <th>GENCODE_name</th>\n",
       "    </tr>\n",
       "  </thead>\n",
       "  <tbody>\n",
       "    <tr>\n",
       "      <td rowspan=\"5\" valign=\"top\">haplo</td>\n",
       "      <td>0</td>\n",
       "      <td>rs1533317</td>\n",
       "      <td>U6</td>\n",
       "    </tr>\n",
       "    <tr>\n",
       "      <td>1</td>\n",
       "      <td>rs71566446</td>\n",
       "      <td>RP11-715G15.1</td>\n",
       "    </tr>\n",
       "    <tr>\n",
       "      <td>2</td>\n",
       "      <td>rs13220141</td>\n",
       "      <td>RP11-715G15.1</td>\n",
       "    </tr>\n",
       "    <tr>\n",
       "      <td>3</td>\n",
       "      <td>rs13215778</td>\n",
       "      <td>RP11-715G15.1</td>\n",
       "    </tr>\n",
       "    <tr>\n",
       "      <td>4</td>\n",
       "      <td>rs71566448</td>\n",
       "      <td>RP11-715G15.1</td>\n",
       "    </tr>\n",
       "    <tr>\n",
       "      <td>...</td>\n",
       "      <td>...</td>\n",
       "      <td>...</td>\n",
       "      <td>...</td>\n",
       "    </tr>\n",
       "    <tr>\n",
       "      <td rowspan=\"5\" valign=\"top\">gtex</td>\n",
       "      <td>15599</td>\n",
       "      <td>rs878888</td>\n",
       "      <td>MAPT</td>\n",
       "    </tr>\n",
       "    <tr>\n",
       "      <td>15600</td>\n",
       "      <td>rs878888</td>\n",
       "      <td>MAPT-IT1</td>\n",
       "    </tr>\n",
       "    <tr>\n",
       "      <td>15610</td>\n",
       "      <td>rs878888</td>\n",
       "      <td>NSF</td>\n",
       "    </tr>\n",
       "    <tr>\n",
       "      <td>15613</td>\n",
       "      <td>rs894278</td>\n",
       "      <td>MMRN1</td>\n",
       "    </tr>\n",
       "    <tr>\n",
       "      <td>15616</td>\n",
       "      <td>rs894278</td>\n",
       "      <td>SNCA</td>\n",
       "    </tr>\n",
       "  </tbody>\n",
       "</table>\n",
       "<p>14404 rows × 2 columns</p>\n",
       "</div>"
      ],
      "text/plain": [
       "                   rsID   GENCODE_name\n",
       "haplo 0       rs1533317             U6\n",
       "      1      rs71566446  RP11-715G15.1\n",
       "      2      rs13220141  RP11-715G15.1\n",
       "      3      rs13215778  RP11-715G15.1\n",
       "      4      rs71566448  RP11-715G15.1\n",
       "...                 ...            ...\n",
       "gtex  15599    rs878888           MAPT\n",
       "      15600    rs878888       MAPT-IT1\n",
       "      15610    rs878888            NSF\n",
       "      15613    rs894278          MMRN1\n",
       "      15616    rs894278           SNCA\n",
       "\n",
       "[14404 rows x 2 columns]"
      ]
     },
     "execution_count": 22,
     "metadata": {},
     "output_type": "execute_result"
    }
   ],
   "source": [
    "# finally join both Haploreg_final and eQTL_query_haplofilter \n",
    "frames = [haploreg_df_unique,eQTL_query_haplofilter]\n",
    "snps_gene_haploreg_gtex = pd.concat(frames, keys=['haplo', 'gtex'])\n",
    "#\n",
    "snps_gene_haploreg_gtex #we are almost done... ."
   ]
  },
  {
   "cell_type": "code",
   "execution_count": 25,
   "metadata": {},
   "outputs": [
    {
     "name": "stdout",
     "output_type": "stream",
     "text": [
      "Size of the final Dataframe: 8911\n"
     ]
    }
   ],
   "source": [
    "#remove duplicates from joined dataframe\n",
    "snps_gene_haploreg_gtex_unique=snps_gene_haploreg_gtex.drop_duplicates(keep=\"first\",inplace=False)\n",
    "print(\"Size of the final Dataframe:\",len(snps_gene_haploreg_gtex_unique)) #done"
   ]
  },
  {
   "cell_type": "code",
   "execution_count": null,
   "metadata": {},
   "outputs": [],
   "source": [
    "# write the final dataframe to your current working directory\n",
    "snps_gene_haploreg_gtex.to_csv(\"snps_gene_haploreg_gtex.csv\",index=False)"
   ]
  }
 ],
 "metadata": {
  "kernelspec": {
   "display_name": "Python 3",
   "language": "python",
   "name": "python3"
  },
  "language_info": {
   "codemirror_mode": {
    "name": "ipython",
    "version": 3
   },
   "file_extension": ".py",
   "mimetype": "text/x-python",
   "name": "python",
   "nbconvert_exporter": "python",
   "pygments_lexer": "ipython3",
   "version": "3.7.3"
  }
 },
 "nbformat": 4,
 "nbformat_minor": 2
}
